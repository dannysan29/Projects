{
 "cells": [
  {
   "cell_type": "markdown",
   "metadata": {},
   "source": [
    "Identify the most popular occupation for those who earn >50K in India.\n",
    "\n",
    "**Top occupations in India: Prof-specialty**"
   ]
  },
  {
   "cell_type": "markdown",
   "metadata": {},
   "source": [
    "What is the average age of men?\n",
    "\n",
    "**Average age of men: 39.4**"
   ]
  },
  {
   "cell_type": "markdown",
   "metadata": {},
   "source": [
    "What is the percentage of people who have a Bachelor's degree?\n",
    "\n",
    "**Percentage with Bachelors degrees: 16.4%**"
   ]
  },
  {
   "cell_type": "markdown",
   "metadata": {},
   "source": [
    "What percentage of people with advanced education (Bachelors, Masters, or Doctorate) make more than 50K?\n",
    "\n",
    "**Percentage with higher education that earn >50K: 46.5%**"
   ]
  },
  {
   "cell_type": "markdown",
   "metadata": {},
   "source": [
    "How many people of each race are represented in this dataset? This should be a Pandas series with race names as the index labels. (race column)\n",
    "\n",
    "**Number of each race:**\n",
    " \n",
    " **race**\n",
    "\n",
    "**White                 27816**\n",
    "\n",
    "**Black                  3124**\n",
    "\n",
    "**Asian-Pac-Islander     1039**\n",
    "\n",
    "**Amer-Indian-Eskimo      311**\n",
    "\n",
    "**Other                   271**\n",
    "\n",
    "**Name: count, dtype: int64**"
   ]
  },
  {
   "cell_type": "markdown",
   "metadata": {},
   "source": [
    "What percentage of people without advanced education make more than 50K?\n",
    "\n",
    "**Percentage without higher education that earn >50K: 17.4%**"
   ]
  },
  {
   "cell_type": "markdown",
   "metadata": {},
   "source": [
    "What is the minimum number of hours a person works per week?\n",
    "\n",
    "\n",
    "**Min work time: 1 hours/week**"
   ]
  },
  {
   "cell_type": "markdown",
   "metadata": {},
   "source": [
    "What country has the highest percentage of people that earn >50K and what is that percentage?\n",
    "\n",
    "**Country with highest percentage of rich: Iran**\n",
    "\n",
    "**Highest percentage of rich people in country: 41.9%**"
   ]
  }
 ],
 "metadata": {
  "kernelspec": {
   "display_name": "Python 3",
   "language": "python",
   "name": "python3"
  },
  "language_info": {
   "name": "python",
   "version": "3.12.4"
  }
 },
 "nbformat": 4,
 "nbformat_minor": 2
}
